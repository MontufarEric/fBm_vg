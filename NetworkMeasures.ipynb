{
 "cells": [
  {
   "cell_type": "code",
   "execution_count": 1,
   "metadata": {},
   "outputs": [],
   "source": [
    "import numpy as np\n",
    "import matplotlib.pyplot as plt\n",
    "import pandas as pd\n",
    "import seaborn as sns\n",
    "import networkx as nx\n",
    "import os"
   ]
  },
  {
   "cell_type": "code",
   "execution_count": 2,
   "metadata": {},
   "outputs": [],
   "source": [
    "statistics=[]"
   ]
  },
  {
   "cell_type": "code",
   "execution_count": 5,
   "metadata": {},
   "outputs": [],
   "source": [
    "path_networks='/home/eric/Documents/TimeSeries/Visibility/CongestivosDormidos/'\n",
    "X=os.listdir(path)\n",
    "X.sort()"
   ]
  },
  {
   "cell_type": "code",
   "execution_count": 7,
   "metadata": {},
   "outputs": [
    {
     "name": "stdout",
     "output_type": "stream",
     "text": [
      "/\n",
      "/\n",
      "/\n",
      "/\n",
      "/\n",
      "/\n",
      "/\n",
      "/\n",
      "{'name': 'chf001s', 'average_clustering_coef': 0.754793612418735, 'average_shortest_path_lenght': 5.321734038244098, 'centrality_betweeness': 0.00031531694427580257, 'centrality_closeness': 0.19115066811398165, 'centrality_eigenvector': 0.002295174907308616, 'average_degree': 7.351327691858769, 'diameter': 11, 'modularity_greedy': 17}\n",
      "/\n",
      "/\n",
      "/\n",
      "/\n",
      "/\n",
      "/\n",
      "/\n",
      "/\n",
      "{'name': 'chf002s', 'average_clustering_coef': 0.7507367749041794, 'average_shortest_path_lenght': 6.267624309077303, 'centrality_betweeness': 0.0001537992499000628, 'centrality_closeness': 0.1621625589787658, 'centrality_eigenvector': 0.0010472655541110482, 'average_degree': 6.191288099964965, 'diameter': 13, 'modularity_greedy': 36}\n"
     ]
    }
   ],
   "source": [
    "for network in X[:2]:\n",
    "    G=nx.read_edgelist('./CongestivosDormidos//'+network)\n",
    "    \n",
    "    try:\n",
    "        G.remove_node('source')\n",
    "        G.remove_node('target')\n",
    "    except:\n",
    "        pass\n",
    "    \n",
    "    dictionary={}\n",
    "    dictionary['name']=network[:7]\n",
    "    dictionary['average_clustering_coef']=nx.algorithms.average_clustering(G)\n",
    "    print(\"/\")\n",
    "    dictionary['average_shortest_path_lenght']=nx.average_shortest_path_length(G)\n",
    "    print(\"/\")\n",
    "    dictionary['centrality_betweeness']=np.mean(list(nx.algorithms.centrality.betweenness_centrality(G).values()))\n",
    "    print(\"/\")\n",
    "    dictionary['centrality_closeness']=np.mean(list(nx.algorithms.centrality.closeness_centrality(G).values()))\n",
    "    print(\"/\")\n",
    "    dictionary['centrality_eigenvector']=np.mean(list(nx.algorithms.centrality.eigenvector_centrality(G).values()))\n",
    "    print(\"/\")\n",
    "    dictionary['average_degree']=np.mean([G.degree(i) for i in G.nodes])\n",
    "    print(\"/\")\n",
    "    dictionary['diameter']=nx.diameter(G)\n",
    "    print(\"/\")\n",
    "    dictionary['modularity_greedy']=len(nx.community.modularity_max.greedy_modularity_communities(G))\n",
    "    print(\"/\")\n",
    "    statistics.append(dictionary)\n",
    "    print(dictionary)"
   ]
  },
  {
   "cell_type": "code",
   "execution_count": 8,
   "metadata": {},
   "outputs": [
    {
     "data": {
      "text/plain": [
       "[{'name': 'chf001s',\n",
       "  'average_clustering_coef': 0.754793612418735,\n",
       "  'average_shortest_path_lenght': 5.321734038244098,\n",
       "  'centrality_betweeness': 0.00031531694427580257,\n",
       "  'centrality_closeness': 0.19115066811398165,\n",
       "  'centrality_eigenvector': 0.002295174907308616,\n",
       "  'average_degree': 7.351327691858769,\n",
       "  'diameter': 11,\n",
       "  'modularity_greedy': 17},\n",
       " {'name': 'chf002s',\n",
       "  'average_clustering_coef': 0.7507367749041794,\n",
       "  'average_shortest_path_lenght': 6.267624309077303,\n",
       "  'centrality_betweeness': 0.0001537992499000628,\n",
       "  'centrality_closeness': 0.1621625589787658,\n",
       "  'centrality_eigenvector': 0.0010472655541110482,\n",
       "  'average_degree': 6.191288099964965,\n",
       "  'diameter': 13,\n",
       "  'modularity_greedy': 36}]"
      ]
     },
     "execution_count": 8,
     "metadata": {},
     "output_type": "execute_result"
    }
   ],
   "source": [
    "statistics"
   ]
  },
  {
   "cell_type": "code",
   "execution_count": 10,
   "metadata": {},
   "outputs": [],
   "source": [
    "df=pd.DataFrame(statistics)"
   ]
  },
  {
   "cell_type": "code",
   "execution_count": 11,
   "metadata": {},
   "outputs": [],
   "source": [
    "df.to_csv('comandini.csv')"
   ]
  },
  {
   "cell_type": "code",
   "execution_count": 4,
   "metadata": {},
   "outputs": [
    {
     "data": {
      "text/plain": [
       "['chf001s__linkList.tsv',\n",
       " 'chf002s__linkList.tsv',\n",
       " 'chf004s__linkList.tsv',\n",
       " 'chf005s__linkList.tsv',\n",
       " 'chf006s__linkList.tsv',\n",
       " 'chf007s__linkList.tsv',\n",
       " 'chf008s__linkList.tsv',\n",
       " 'chf010s__linkList.tsv',\n",
       " 'chf011s__linkList.tsv',\n",
       " 'chf012s__linkList.tsv',\n",
       " 'chf013s__linkList.tsv',\n",
       " 'chf014s__linkList.tsv',\n",
       " 'chf015s__linkList.tsv',\n",
       " 'chf201s__linkList.tsv',\n",
       " 'chf202s__linkList.tsv',\n",
       " 'chf203s__linkList.tsv',\n",
       " 'chf204s__linkList.tsv',\n",
       " 'chf205s__linkList.tsv',\n",
       " 'chf207s__linkList.tsv',\n",
       " 'chf208s__linkList.tsv',\n",
       " 'chf209s__linkList.tsv',\n",
       " 'chf210s__linkList.tsv',\n",
       " 'chf211s__linkList.tsv',\n",
       " 'chf212s__linkList.tsv',\n",
       " 'chf213s__linkList.tsv',\n",
       " 'chf214s__linkList.tsv',\n",
       " 'chf215s__linkList.tsv',\n",
       " 'chf216s__linkList.tsv',\n",
       " 'chf217s__linkList.tsv',\n",
       " 'chf218s__linkList.tsv',\n",
       " 'chf219s__linkList.tsv',\n",
       " 'chf220s__linkList.tsv',\n",
       " 'chf221s__linkList.tsv',\n",
       " 'chf223s__linkList.tsv',\n",
       " 'chf224s__linkList.tsv',\n",
       " 'chf225s__linkList.tsv',\n",
       " 'chf226s__linkList.tsv',\n",
       " 'chf227s__linkList.tsv',\n",
       " 'chf228s__linkList.tsv',\n",
       " 'chf229s__linkList.tsv']"
      ]
     },
     "execution_count": 4,
     "metadata": {},
     "output_type": "execute_result"
    }
   ],
   "source": [
    "X"
   ]
  },
  {
   "cell_type": "code",
   "execution_count": null,
   "metadata": {},
   "outputs": [],
   "source": []
  },
  {
   "cell_type": "code",
   "execution_count": 23,
   "metadata": {},
   "outputs": [],
   "source": [
    "path_networks='/home/eric/Documents/TimeSeries/Visibility/CongestivosDormidos/'\n",
    "Y=os.listdir(path_networks)\n",
    "Y.sort()"
   ]
  },
  {
   "cell_type": "code",
   "execution_count": 24,
   "metadata": {},
   "outputs": [],
   "source": [
    "path_ts='/home/eric/Documents/TimeSeries/physionetDataset/SeriesPhysionet/Congestivos/CHF02/Dormidos y Despiertos/Series/'\n",
    "X=os.listdir(path_ts)\n",
    "X.sort()"
   ]
  },
  {
   "cell_type": "code",
   "execution_count": 74,
   "metadata": {},
   "outputs": [],
   "source": [
    "graph=nx.read_edgelist(path_networks+Y[13])"
   ]
  },
  {
   "cell_type": "code",
   "execution_count": 75,
   "metadata": {},
   "outputs": [],
   "source": [
    "try:\n",
    "    graph.remove_node('source')\n",
    "    graph.remove_node('target')\n",
    "except:\n",
    "    pass"
   ]
  },
  {
   "cell_type": "code",
   "execution_count": 76,
   "metadata": {},
   "outputs": [
    {
     "data": {
      "text/plain": [
       "18267"
      ]
     },
     "execution_count": 76,
     "metadata": {},
     "output_type": "execute_result"
    }
   ],
   "source": [
    "graph.number_of_nodes()"
   ]
  },
  {
   "cell_type": "code",
   "execution_count": 77,
   "metadata": {},
   "outputs": [],
   "source": [
    "ts=serie=np.loadtxt(path_ts+X[0])"
   ]
  },
  {
   "cell_type": "code",
   "execution_count": 78,
   "metadata": {},
   "outputs": [
    {
     "data": {
      "text/plain": [
       "18267"
      ]
     },
     "execution_count": 78,
     "metadata": {},
     "output_type": "execute_result"
    }
   ],
   "source": [
    "len(ts)"
   ]
  },
  {
   "cell_type": "code",
   "execution_count": 79,
   "metadata": {},
   "outputs": [],
   "source": [
    "node_degrees=[graph.degree(i) for i in graph.nodes()]"
   ]
  },
  {
   "cell_type": "code",
   "execution_count": 80,
   "metadata": {},
   "outputs": [
    {
     "data": {
      "text/plain": [
       "[<matplotlib.lines.Line2D at 0x7fa98c4eb8d0>]"
      ]
     },
     "execution_count": 80,
     "metadata": {},
     "output_type": "execute_result"
    },
    {
     "data": {
      "image/png": "[encoded data removed]",
      "text/plain": [
       "<Figure size 432x288 with 1 Axes>"
      ]
     },
     "metadata": {
      "needs_background": "light"
     },
     "output_type": "display_data"
    }
   ],
   "source": [
    "plt.plot(ts,node_degrees,'r*')"
   ]
  },
  {
   "cell_type": "code",
   "execution_count": null,
   "metadata": {},
   "outputs": [],
   "source": []
  },
  {
   "cell_type": "code",
   "execution_count": 81,
   "metadata": {
    "scrolled": true
   },
   "outputs": [
    {
     "name": "stdout",
     "output_type": "stream",
     "text": [
      "chf201s__linkList.tsv\n",
      "chf201s.txt\n"
     ]
    }
   ],
   "source": [
    "print(Y[13])\n",
    "print(X[0])"
   ]
  },
  {
   "cell_type": "code",
   "execution_count": 82,
   "metadata": {},
   "outputs": [
    {
     "name": "stdout",
     "output_type": "stream",
     "text": [
      "chf202s__linkList.tsv\n",
      "chf202s.txt\n"
     ]
    }
   ],
   "source": [
    "print(Y[14])\n",
    "print(X[2])"
   ]
  },
  {
   "cell_type": "code",
   "execution_count": 83,
   "metadata": {},
   "outputs": [],
   "source": [
    "graph=nx.read_edgelist(path_networks+Y[14])\n",
    "ts=serie=np.loadtxt(path_ts+X[2])"
   ]
  },
  {
   "cell_type": "code",
   "execution_count": 84,
   "metadata": {},
   "outputs": [],
   "source": [
    "try:\n",
    "    graph.remove_node('source')\n",
    "    graph.remove_node('target')\n",
    "except:\n",
    "    pass"
   ]
  },
  {
   "cell_type": "code",
   "execution_count": 85,
   "metadata": {
    "scrolled": true
   },
   "outputs": [
    {
     "name": "stdout",
     "output_type": "stream",
     "text": [
      "9050\n",
      "9050\n"
     ]
    }
   ],
   "source": [
    "print(len(ts))\n",
    "print(graph.number_of_nodes())"
   ]
  },
  {
   "cell_type": "code",
   "execution_count": 86,
   "metadata": {},
   "outputs": [],
   "source": [
    "node_degrees=[graph.degree(i) for i in graph.nodes()]"
   ]
  },
  {
   "cell_type": "code",
   "execution_count": 87,
   "metadata": {},
   "outputs": [
    {
     "data": {
      "text/plain": [
       "[<matplotlib.lines.Line2D at 0x7fa98f7571d0>]"
      ]
     },
     "execution_count": 87,
     "metadata": {},
     "output_type": "execute_result"
    },
    {
     "data": {
      "image/png": "[encoded data removed]",
      "text/plain": [
       "<Figure size 432x288 with 1 Axes>"
      ]
     },
     "metadata": {
      "needs_background": "light"
     },
     "output_type": "display_data"
    }
   ],
   "source": [
    "plt.plot(ts,node_degrees,'r*')"
   ]
  },
  {
   "cell_type": "code",
   "execution_count": 88,
   "metadata": {},
   "outputs": [
    {
     "data": {
      "text/plain": [
       "<matplotlib.axes._subplots.AxesSubplot at 0x7fa98e41d940>"
      ]
     },
     "execution_count": 88,
     "metadata": {},
     "output_type": "execute_result"
    },
    {
     "data": {
      "image/png": "[encoded data removed]",
      "text/plain": [
       "<Figure size 432x288 with 1 Axes>"
      ]
     },
     "metadata": {
      "needs_background": "light"
     },
     "output_type": "display_data"
    }
   ],
   "source": [
    "sns.scatterplot(ts,node_degrees)"
   ]
  },
  {
   "cell_type": "code",
   "execution_count": 90,
   "metadata": {},
   "outputs": [],
   "source": [
    "node_cc=[i for i in list(nx.clustering(graph).values())]"
   ]
  },
  {
   "cell_type": "code",
   "execution_count": 91,
   "metadata": {},
   "outputs": [
    {
     "data": {
      "text/plain": [
       "<matplotlib.axes._subplots.AxesSubplot at 0x7fa98818b400>"
      ]
     },
     "execution_count": 91,
     "metadata": {},
     "output_type": "execute_result"
    },
    {
     "data": {
      "image/png": "[encoded data removed]",
      "text/plain": [
       "<Figure size 432x288 with 1 Axes>"
      ]
     },
     "metadata": {
      "needs_background": "light"
     },
     "output_type": "display_data"
    }
   ],
   "source": [
    "sns.scatterplot(ts,node_cc)"
   ]
  },
  {
   "cell_type": "code",
   "execution_count": null,
   "metadata": {},
   "outputs": [],
   "source": []
  },
  {
   "cell_type": "code",
   "execution_count": null,
   "metadata": {},
   "outputs": [],
   "source": []
  },
  {
   "cell_type": "code",
   "execution_count": null,
   "metadata": {},
   "outputs": [],
   "source": []
  },
  {
   "cell_type": "code",
   "execution_count": null,
   "metadata": {},
   "outputs": [],
   "source": []
  },
  {
   "cell_type": "code",
   "execution_count": null,
   "metadata": {},
   "outputs": [],
   "source": []
  },
  {
   "cell_type": "code",
   "execution_count": null,
   "metadata": {},
   "outputs": [],
   "source": []
  },
  {
   "cell_type": "code",
   "execution_count": null,
   "metadata": {},
   "outputs": [],
   "source": []
  },
  {
   "cell_type": "code",
   "execution_count": null,
   "metadata": {},
   "outputs": [],
   "source": []
  },
  {
   "cell_type": "code",
   "execution_count": null,
   "metadata": {},
   "outputs": [],
   "source": []
  },
  {
   "cell_type": "code",
   "execution_count": null,
   "metadata": {},
   "outputs": [],
   "source": []
  },
  {
   "cell_type": "code",
   "execution_count": null,
   "metadata": {},
   "outputs": [],
   "source": []
  },
  {
   "cell_type": "code",
   "execution_count": null,
   "metadata": {},
   "outputs": [],
   "source": []
  },
  {
   "cell_type": "code",
   "execution_count": null,
   "metadata": {},
   "outputs": [],
   "source": []
  },
  {
   "cell_type": "code",
   "execution_count": null,
   "metadata": {},
   "outputs": [],
   "source": []
  },
  {
   "cell_type": "code",
   "execution_count": null,
   "metadata": {},
   "outputs": [],
   "source": []
  },
  {
   "cell_type": "code",
   "execution_count": null,
   "metadata": {},
   "outputs": [],
   "source": []
  },
  {
   "cell_type": "code",
   "execution_count": null,
   "metadata": {},
   "outputs": [],
   "source": []
  },
  {
   "cell_type": "code",
   "execution_count": null,
   "metadata": {},
   "outputs": [],
   "source": []
  },
  {
   "cell_type": "code",
   "execution_count": null,
   "metadata": {},
   "outputs": [],
   "source": []
  },
  {
   "cell_type": "code",
   "execution_count": null,
   "metadata": {},
   "outputs": [],
   "source": []
  },
  {
   "cell_type": "code",
   "execution_count": null,
   "metadata": {},
   "outputs": [],
   "source": []
  },
  {
   "cell_type": "code",
   "execution_count": null,
   "metadata": {},
   "outputs": [],
   "source": []
  },
  {
   "cell_type": "code",
   "execution_count": null,
   "metadata": {},
   "outputs": [],
   "source": []
  },
  {
   "cell_type": "code",
   "execution_count": null,
   "metadata": {},
   "outputs": [],
   "source": []
  },
  {
   "cell_type": "code",
   "execution_count": null,
   "metadata": {},
   "outputs": [],
   "source": []
  },
  {
   "cell_type": "code",
   "execution_count": null,
   "metadata": {},
   "outputs": [],
   "source": []
  },
  {
   "cell_type": "code",
   "execution_count": null,
   "metadata": {},
   "outputs": [],
   "source": []
  },
  {
   "cell_type": "code",
   "execution_count": null,
   "metadata": {},
   "outputs": [],
   "source": []
  }
 ],
 "metadata": {
  "kernelspec": {
   "display_name": "Python 3",
   "language": "python",
   "name": "python3"
  },
  "language_info": {
   "codemirror_mode": {
    "name": "ipython",
    "version": 3
   },
   "file_extension": ".py",
   "mimetype": "text/x-python",
   "name": "python",
   "nbconvert_exporter": "python",
   "pygments_lexer": "ipython3",
   "version": "3.7.4"
  }
 },
 "nbformat": 4,
 "nbformat_minor": 2
}
